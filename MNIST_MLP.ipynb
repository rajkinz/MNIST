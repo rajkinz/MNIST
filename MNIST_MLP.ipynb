{
  "nbformat": 4,
  "nbformat_minor": 0,
  "metadata": {
    "colab": {
      "name": "MNIST_MLP.ipynb",
      "version": "0.3.2",
      "provenance": []
    },
    "kernelspec": {
      "name": "python3",
      "display_name": "Python 3"
    },
    "accelerator": "GPU"
  },
  "cells": [
    {
      "metadata": {
        "id": "tW8_bFm_Dcyh",
        "colab_type": "text"
      },
      "cell_type": "markdown",
      "source": [
        "### Importing, loading and preprocessing MNIST data"
      ]
    },
    {
      "metadata": {
        "id": "dEjEfvKd-49w",
        "colab_type": "code",
        "outputId": "3843af89-6301-43f5-cdbe-ca51371ea2a3",
        "colab": {
          "base_uri": "https://localhost:8080/",
          "height": 68
        }
      },
      "cell_type": "code",
      "source": [
        "#Importing MNIST dataset\n",
        "from keras.datasets import mnist\n",
        "\n",
        "#Loading data\n",
        "(x_train,y_train),(x_test,y_test) = mnist.load_data()\n",
        "\n",
        "print(\"Shape of training data:- \",x_train.shape)\n",
        "print(\"Shape of test data:- \",x_test.shape)"
      ],
      "execution_count": 1,
      "outputs": [
        {
          "output_type": "stream",
          "text": [
            "Using TensorFlow backend.\n"
          ],
          "name": "stderr"
        },
        {
          "output_type": "stream",
          "text": [
            "Shape of training data:-  (60000, 28, 28)\n",
            "Shape of test data:-  (10000, 28, 28)\n"
          ],
          "name": "stdout"
        }
      ]
    },
    {
      "metadata": {
        "id": "Q6lJEYE3DDow",
        "colab_type": "code",
        "outputId": "0b69c868-d2c6-404b-8e93-58a5af4e2f28",
        "colab": {
          "base_uri": "https://localhost:8080/",
          "height": 51
        }
      },
      "cell_type": "code",
      "source": [
        "#Training data and test data are in 3-D vector so converting it into 2-D vector (28*28=784)\n",
        "x_train = x_train.reshape(x_train.shape[0],x_train.shape[1]*x_train.shape[2])\n",
        "x_test = x_test.reshape(x_test.shape[0],x_test.shape[1]*x_test.shape[2])\n",
        "\n",
        "print(\"Shape of training data:- \",x_train.shape)\n",
        "print(\"Shape of test data:- \",x_test.shape)"
      ],
      "execution_count": 2,
      "outputs": [
        {
          "output_type": "stream",
          "text": [
            "Shape of training data:-  (60000, 784)\n",
            "Shape of test data:-  (10000, 784)\n"
          ],
          "name": "stdout"
        }
      ]
    },
    {
      "metadata": {
        "id": "7UEQTSU8EaiM",
        "colab_type": "code",
        "colab": {}
      },
      "cell_type": "code",
      "source": [
        "#Data Normalization --> (x-x_min)/(x_max-x_min)\n",
        "x_train = x_train/255\n",
        "x_test = x_test/255"
      ],
      "execution_count": 0,
      "outputs": []
    },
    {
      "metadata": {
        "id": "lLj3Oix6F4-c",
        "colab_type": "code",
        "outputId": "e628f418-f7b4-4637-f021-ac99ff79a731",
        "colab": {
          "base_uri": "https://localhost:8080/",
          "height": 221
        }
      },
      "cell_type": "code",
      "source": [
        "import pandas as pd\n",
        "print(\"Frequency of each class labels in training data:-\\n\",pd.DataFrame(y_train)[0].value_counts())"
      ],
      "execution_count": 4,
      "outputs": [
        {
          "output_type": "stream",
          "text": [
            "Frequency of each class labels in training data:-\n",
            " 1    6742\n",
            "7    6265\n",
            "3    6131\n",
            "2    5958\n",
            "9    5949\n",
            "0    5923\n",
            "6    5918\n",
            "8    5851\n",
            "4    5842\n",
            "5    5421\n",
            "Name: 0, dtype: int64\n"
          ],
          "name": "stdout"
        }
      ]
    },
    {
      "metadata": {
        "id": "gSZjORscFgh4",
        "colab_type": "code",
        "outputId": "f0d459e2-7f2d-4734-e33d-03cca4c16934",
        "colab": {
          "base_uri": "https://localhost:8080/",
          "height": 51
        }
      },
      "cell_type": "code",
      "source": [
        "from keras.utils import np_utils\n",
        "# here we are having a class number for each image ranging from 0 to 9\n",
        "print(\"Class label of first image :\", y_train[0])\n",
        "\n",
        "# lets convert this into a 10 dimensional vector\n",
        "# ex: consider an image is 5 convert it into 5 => [0, 0, 0, 0, 0, 1, 0, 0, 0, 0]\n",
        "# this conversion needed for MLPs \n",
        "\n",
        "Y_train = np_utils.to_categorical(y_train, 10) \n",
        "Y_test = np_utils.to_categorical(y_test, 10)\n",
        "\n",
        "print(\"After converting the output into a vector : \",Y_train[0])"
      ],
      "execution_count": 5,
      "outputs": [
        {
          "output_type": "stream",
          "text": [
            "Class label of first image : 5\n",
            "After converting the output into a vector :  [0. 0. 0. 0. 0. 1. 0. 0. 0. 0.]\n"
          ],
          "name": "stdout"
        }
      ]
    },
    {
      "metadata": {
        "id": "fb5ZTOUjQE2l",
        "colab_type": "code",
        "colab": {}
      },
      "cell_type": "code",
      "source": [
        "import matplotlib.pyplot as plt\n",
        "import seaborn as sns\n",
        "def plt_dynamic(x, vy, ty):\n",
        "    sns.set_style('whitegrid')\n",
        "    plt.plot(x, vl, 'r', label=\"Validation Loss\")\n",
        "    plt.plot(x, tl, 'b', label=\"Train Loss\")\n",
        "    plt.xlabel(\"Epochs\")\n",
        "    plt.ylabel(\"Cross Entropy Loss\")\n",
        "    plt.legend()\n",
        "    plt.show()"
      ],
      "execution_count": 0,
      "outputs": []
    },
    {
      "metadata": {
        "id": "HccsHNsKH2JW",
        "colab_type": "text"
      },
      "cell_type": "markdown",
      "source": [
        "### Architecture_1 :- input-> 2 hidden layers -> output layer"
      ]
    },
    {
      "metadata": {
        "id": "5t3NaQ7TI1F5",
        "colab_type": "code",
        "outputId": "e1748efd-d5c1-4359-d817-d5ebc283c111",
        "colab": {
          "base_uri": "https://localhost:8080/",
          "height": 462
        }
      },
      "cell_type": "code",
      "source": [
        "from keras.models import Sequential\n",
        "from keras.layers import Dense, Dropout\n",
        "from keras.layers.normalization import BatchNormalization\n",
        "\n",
        "model = Sequential()\n",
        "model.add(Dense(256,input_shape = (784,),activation = 'relu', kernel_initializer = 'he_normal'))\n",
        "model.add(Dropout(0.5))\n",
        "\n",
        "model.add(Dense(128,activation = 'relu', kernel_initializer = 'he_normal'))\n",
        "model.add(BatchNormalization())\n",
        "model.add(Dropout(0.5))\n",
        "\n",
        "model.add(Dense(10,activation = 'softmax'))\n",
        "model.summary()"
      ],
      "execution_count": 7,
      "outputs": [
        {
          "output_type": "stream",
          "text": [
            "WARNING:tensorflow:From /usr/local/lib/python3.6/dist-packages/tensorflow/python/framework/op_def_library.py:263: colocate_with (from tensorflow.python.framework.ops) is deprecated and will be removed in a future version.\n",
            "Instructions for updating:\n",
            "Colocations handled automatically by placer.\n",
            "WARNING:tensorflow:From /usr/local/lib/python3.6/dist-packages/keras/backend/tensorflow_backend.py:3445: calling dropout (from tensorflow.python.ops.nn_ops) with keep_prob is deprecated and will be removed in a future version.\n",
            "Instructions for updating:\n",
            "Please use `rate` instead of `keep_prob`. Rate should be set to `rate = 1 - keep_prob`.\n",
            "_________________________________________________________________\n",
            "Layer (type)                 Output Shape              Param #   \n",
            "=================================================================\n",
            "dense_1 (Dense)              (None, 256)               200960    \n",
            "_________________________________________________________________\n",
            "dropout_1 (Dropout)          (None, 256)               0         \n",
            "_________________________________________________________________\n",
            "dense_2 (Dense)              (None, 128)               32896     \n",
            "_________________________________________________________________\n",
            "batch_normalization_1 (Batch (None, 128)               512       \n",
            "_________________________________________________________________\n",
            "dropout_2 (Dropout)          (None, 128)               0         \n",
            "_________________________________________________________________\n",
            "dense_3 (Dense)              (None, 10)                1290      \n",
            "=================================================================\n",
            "Total params: 235,658\n",
            "Trainable params: 235,402\n",
            "Non-trainable params: 256\n",
            "_________________________________________________________________\n"
          ],
          "name": "stdout"
        }
      ]
    },
    {
      "metadata": {
        "id": "7LqDqqGVOCx0",
        "colab_type": "code",
        "outputId": "84f3a08b-700c-43f0-d1c7-f4f15595ea26",
        "colab": {
          "base_uri": "https://localhost:8080/",
          "height": 785
        }
      },
      "cell_type": "code",
      "source": [
        "#Compiling and fitting the model\n",
        "model.compile(optimizer = 'adam',loss = 'categorical_crossentropy',metrics=['accuracy'])\n",
        "res = model.fit(x_train,Y_train,batch_size = 256, epochs = 20, verbose = 1, validation_data = (x_test,Y_test))"
      ],
      "execution_count": 8,
      "outputs": [
        {
          "output_type": "stream",
          "text": [
            "WARNING:tensorflow:From /usr/local/lib/python3.6/dist-packages/tensorflow/python/ops/math_ops.py:3066: to_int32 (from tensorflow.python.ops.math_ops) is deprecated and will be removed in a future version.\n",
            "Instructions for updating:\n",
            "Use tf.cast instead.\n",
            "Train on 60000 samples, validate on 10000 samples\n",
            "Epoch 1/20\n",
            "60000/60000 [==============================] - 3s 51us/step - loss: 0.6773 - acc: 0.7918 - val_loss: 0.1873 - val_acc: 0.9441\n",
            "Epoch 2/20\n",
            "60000/60000 [==============================] - 2s 32us/step - loss: 0.2879 - acc: 0.9148 - val_loss: 0.1393 - val_acc: 0.9577\n",
            "Epoch 3/20\n",
            "60000/60000 [==============================] - 2s 32us/step - loss: 0.2216 - acc: 0.9340 - val_loss: 0.1146 - val_acc: 0.9655\n",
            "Epoch 4/20\n",
            "60000/60000 [==============================] - 2s 32us/step - loss: 0.1860 - acc: 0.9450 - val_loss: 0.1016 - val_acc: 0.9687\n",
            "Epoch 5/20\n",
            "60000/60000 [==============================] - 2s 32us/step - loss: 0.1694 - acc: 0.9501 - val_loss: 0.0939 - val_acc: 0.9712\n",
            "Epoch 6/20\n",
            "60000/60000 [==============================] - 2s 32us/step - loss: 0.1471 - acc: 0.9556 - val_loss: 0.0870 - val_acc: 0.9734\n",
            "Epoch 7/20\n",
            "60000/60000 [==============================] - 2s 32us/step - loss: 0.1327 - acc: 0.9593 - val_loss: 0.0833 - val_acc: 0.9742\n",
            "Epoch 8/20\n",
            "60000/60000 [==============================] - 2s 32us/step - loss: 0.1296 - acc: 0.9606 - val_loss: 0.0824 - val_acc: 0.9760\n",
            "Epoch 9/20\n",
            "60000/60000 [==============================] - 2s 32us/step - loss: 0.1169 - acc: 0.9641 - val_loss: 0.0780 - val_acc: 0.9753\n",
            "Epoch 10/20\n",
            "60000/60000 [==============================] - 2s 32us/step - loss: 0.1078 - acc: 0.9669 - val_loss: 0.0743 - val_acc: 0.9779\n",
            "Epoch 11/20\n",
            "60000/60000 [==============================] - 2s 32us/step - loss: 0.1061 - acc: 0.9673 - val_loss: 0.0770 - val_acc: 0.9777\n",
            "Epoch 12/20\n",
            "60000/60000 [==============================] - 2s 32us/step - loss: 0.0996 - acc: 0.9701 - val_loss: 0.0731 - val_acc: 0.9786\n",
            "Epoch 13/20\n",
            "60000/60000 [==============================] - 2s 32us/step - loss: 0.0950 - acc: 0.9703 - val_loss: 0.0732 - val_acc: 0.9777\n",
            "Epoch 14/20\n",
            "60000/60000 [==============================] - 2s 32us/step - loss: 0.0913 - acc: 0.9721 - val_loss: 0.0727 - val_acc: 0.9791\n",
            "Epoch 15/20\n",
            "60000/60000 [==============================] - 2s 32us/step - loss: 0.0855 - acc: 0.9738 - val_loss: 0.0693 - val_acc: 0.9792\n",
            "Epoch 16/20\n",
            "60000/60000 [==============================] - 2s 33us/step - loss: 0.0824 - acc: 0.9751 - val_loss: 0.0695 - val_acc: 0.9792\n",
            "Epoch 17/20\n",
            "60000/60000 [==============================] - 2s 32us/step - loss: 0.0783 - acc: 0.9762 - val_loss: 0.0662 - val_acc: 0.9810\n",
            "Epoch 18/20\n",
            "60000/60000 [==============================] - 2s 32us/step - loss: 0.0766 - acc: 0.9761 - val_loss: 0.0673 - val_acc: 0.9810\n",
            "Epoch 19/20\n",
            "60000/60000 [==============================] - 2s 32us/step - loss: 0.0764 - acc: 0.9758 - val_loss: 0.0675 - val_acc: 0.9802\n",
            "Epoch 20/20\n",
            "60000/60000 [==============================] - 2s 32us/step - loss: 0.0717 - acc: 0.9778 - val_loss: 0.0681 - val_acc: 0.9809\n"
          ],
          "name": "stdout"
        }
      ]
    },
    {
      "metadata": {
        "id": "m1JgVf4tQyvH",
        "colab_type": "code",
        "outputId": "b7e60a03-adb6-4b9b-e171-c0a0753044e9",
        "colab": {
          "base_uri": "https://localhost:8080/",
          "height": 395
        }
      },
      "cell_type": "code",
      "source": [
        "#Training and test loss vs n_epoch graph\n",
        "score = model.evaluate(x_test, Y_test, verbose=0) \n",
        "print('Test score:', score[0]) \n",
        "print('Test accuracy:', score[1])\n",
        "\n",
        "# list of epoch numbers\n",
        "x = list(range(1,21))\n",
        "\n",
        "vl = res.history['val_loss']\n",
        "tl = res.history['loss']\n",
        "plt_dynamic(x, vl, tl)"
      ],
      "execution_count": 9,
      "outputs": [
        {
          "output_type": "stream",
          "text": [
            "Test score: 0.06809647223775682\n",
            "Test accuracy: 0.9809\n"
          ],
          "name": "stdout"
        },
        {
          "output_type": "display_data",
          "data": {
            "image/png": "[encoded data removed]",
            "text/plain": [
              "<Figure size 576x396 with 1 Axes>"
            ]
          },
          "metadata": {
            "tags": []
          }
        }
      ]
    },
    {
      "metadata": {
        "id": "ukozXultJSZR",
        "colab_type": "text"
      },
      "cell_type": "markdown",
      "source": [
        "### Architecture_2: input -> 3 hidden layers -> output layer"
      ]
    },
    {
      "metadata": {
        "id": "qT3yUkSgJfJR",
        "colab_type": "code",
        "outputId": "ef811e0b-4aec-417c-dad0-4be9766a0947",
        "colab": {
          "base_uri": "https://localhost:8080/",
          "height": 479
        }
      },
      "cell_type": "code",
      "source": [
        "from keras.models import Sequential\n",
        "from keras.layers import Dense, Dropout\n",
        "from keras.layers.normalization import BatchNormalization\n",
        "\n",
        "model = Sequential()\n",
        "model.add(Dense(512,input_shape = (784,),activation = 'relu',kernel_initializer = 'he_normal'))\n",
        "model.add(Dropout(0.5))\n",
        "\n",
        "model.add(Dense(128,activation = 'relu',kernel_initializer = 'he_normal'))\n",
        "model.add(BatchNormalization())\n",
        "model.add(Dropout(0.5))\n",
        "\n",
        "model.add(Dense(64,activation = 'relu',kernel_initializer = 'he_normal'))\n",
        "model.add(BatchNormalization())\n",
        "model.add(Dropout(0.5))\n",
        "\n",
        "model.add(Dense(output_dim = 10,activation = 'softmax'))\n",
        "model.summary()"
      ],
      "execution_count": 10,
      "outputs": [
        {
          "output_type": "stream",
          "text": [
            "_________________________________________________________________\n",
            "Layer (type)                 Output Shape              Param #   \n",
            "=================================================================\n",
            "dense_4 (Dense)              (None, 512)               401920    \n",
            "_________________________________________________________________\n",
            "dropout_3 (Dropout)          (None, 512)               0         \n",
            "_________________________________________________________________\n",
            "dense_5 (Dense)              (None, 128)               65664     \n",
            "_________________________________________________________________\n",
            "batch_normalization_2 (Batch (None, 128)               512       \n",
            "_________________________________________________________________\n",
            "dropout_4 (Dropout)          (None, 128)               0         \n",
            "_________________________________________________________________\n",
            "dense_6 (Dense)              (None, 64)                8256      \n",
            "_________________________________________________________________\n",
            "batch_normalization_3 (Batch (None, 64)                256       \n",
            "_________________________________________________________________\n",
            "dropout_5 (Dropout)          (None, 64)                0         \n",
            "_________________________________________________________________\n",
            "dense_7 (Dense)              (None, 10)                650       \n",
            "=================================================================\n",
            "Total params: 477,258\n",
            "Trainable params: 476,874\n",
            "Non-trainable params: 384\n",
            "_________________________________________________________________\n"
          ],
          "name": "stdout"
        },
        {
          "output_type": "stream",
          "text": [
            "/usr/local/lib/python3.6/dist-packages/ipykernel_launcher.py:17: UserWarning: Update your `Dense` call to the Keras 2 API: `Dense(activation=\"softmax\", units=10)`\n"
          ],
          "name": "stderr"
        }
      ]
    },
    {
      "metadata": {
        "id": "WTSulv6GOiVc",
        "colab_type": "code",
        "outputId": "1e9764da-8b8e-40bd-9a9e-a61f2e2cbc99",
        "colab": {
          "base_uri": "https://localhost:8080/",
          "height": 714
        }
      },
      "cell_type": "code",
      "source": [
        "#Compiling and fitting the model\n",
        "model.compile(optimizer = 'adam',loss = 'categorical_crossentropy',metrics=['accuracy'])\n",
        "res = model.fit(x_train,Y_train,batch_size = 256, epochs = 20, verbose = 1, validation_data = (x_test,Y_test))"
      ],
      "execution_count": 11,
      "outputs": [
        {
          "output_type": "stream",
          "text": [
            "Train on 60000 samples, validate on 10000 samples\n",
            "Epoch 1/20\n",
            "60000/60000 [==============================] - 3s 56us/step - loss: 0.9102 - acc: 0.7183 - val_loss: 0.2286 - val_acc: 0.9350\n",
            "Epoch 2/20\n",
            "60000/60000 [==============================] - 3s 44us/step - loss: 0.3494 - acc: 0.9017 - val_loss: 0.1503 - val_acc: 0.9567\n",
            "Epoch 3/20\n",
            "60000/60000 [==============================] - 3s 44us/step - loss: 0.2498 - acc: 0.9307 - val_loss: 0.1231 - val_acc: 0.9636\n",
            "Epoch 4/20\n",
            "60000/60000 [==============================] - 3s 44us/step - loss: 0.1998 - acc: 0.9441 - val_loss: 0.1037 - val_acc: 0.9689\n",
            "Epoch 5/20\n",
            "60000/60000 [==============================] - 3s 44us/step - loss: 0.1758 - acc: 0.9515 - val_loss: 0.1012 - val_acc: 0.9715\n",
            "Epoch 6/20\n",
            "60000/60000 [==============================] - 3s 44us/step - loss: 0.1499 - acc: 0.9586 - val_loss: 0.0918 - val_acc: 0.9751\n",
            "Epoch 7/20\n",
            "60000/60000 [==============================] - 3s 44us/step - loss: 0.1407 - acc: 0.9610 - val_loss: 0.0867 - val_acc: 0.9750\n",
            "Epoch 8/20\n",
            "60000/60000 [==============================] - 3s 43us/step - loss: 0.1212 - acc: 0.9656 - val_loss: 0.0844 - val_acc: 0.9772\n",
            "Epoch 9/20\n",
            "60000/60000 [==============================] - 3s 44us/step - loss: 0.1181 - acc: 0.9668 - val_loss: 0.0789 - val_acc: 0.9787\n",
            "Epoch 10/20\n",
            "60000/60000 [==============================] - 3s 43us/step - loss: 0.1078 - acc: 0.9700 - val_loss: 0.0780 - val_acc: 0.9781\n",
            "Epoch 11/20\n",
            "60000/60000 [==============================] - 3s 44us/step - loss: 0.1057 - acc: 0.9702 - val_loss: 0.0806 - val_acc: 0.9777\n",
            "Epoch 12/20\n",
            "60000/60000 [==============================] - 3s 44us/step - loss: 0.0955 - acc: 0.9727 - val_loss: 0.0736 - val_acc: 0.9794\n",
            "Epoch 13/20\n",
            "60000/60000 [==============================] - 3s 44us/step - loss: 0.0874 - acc: 0.9754 - val_loss: 0.0722 - val_acc: 0.9804\n",
            "Epoch 14/20\n",
            "60000/60000 [==============================] - 3s 43us/step - loss: 0.0875 - acc: 0.9753 - val_loss: 0.0674 - val_acc: 0.9815\n",
            "Epoch 15/20\n",
            "60000/60000 [==============================] - 3s 43us/step - loss: 0.0838 - acc: 0.9759 - val_loss: 0.0683 - val_acc: 0.9804\n",
            "Epoch 16/20\n",
            "60000/60000 [==============================] - 3s 44us/step - loss: 0.0783 - acc: 0.9781 - val_loss: 0.0718 - val_acc: 0.9805\n",
            "Epoch 17/20\n",
            "60000/60000 [==============================] - 3s 43us/step - loss: 0.0777 - acc: 0.9779 - val_loss: 0.0732 - val_acc: 0.9818\n",
            "Epoch 18/20\n",
            "60000/60000 [==============================] - 3s 44us/step - loss: 0.0705 - acc: 0.9799 - val_loss: 0.0738 - val_acc: 0.9809\n",
            "Epoch 19/20\n",
            "60000/60000 [==============================] - 3s 44us/step - loss: 0.0717 - acc: 0.9795 - val_loss: 0.0677 - val_acc: 0.9824\n",
            "Epoch 20/20\n",
            "60000/60000 [==============================] - 3s 44us/step - loss: 0.0668 - acc: 0.9811 - val_loss: 0.0680 - val_acc: 0.9823\n"
          ],
          "name": "stdout"
        }
      ]
    },
    {
      "metadata": {
        "id": "9vp9YUDPPZOo",
        "colab_type": "code",
        "outputId": "95999ec3-b4af-4f21-e00d-2974fd25f98f",
        "colab": {
          "base_uri": "https://localhost:8080/",
          "height": 395
        }
      },
      "cell_type": "code",
      "source": [
        "#Training and test loss vs #epochs graph\n",
        "score = model.evaluate(x_test, Y_test, verbose=0) \n",
        "print('Test score:', score[0]) \n",
        "print('Test accuracy:', score[1])\n",
        "\n",
        "# list of epoch numbers\n",
        "x = list(range(1,21))\n",
        "\n",
        "vl = res.history['val_loss']\n",
        "tl = res.history['loss']\n",
        "plt_dynamic(x, vl, tl)"
      ],
      "execution_count": 12,
      "outputs": [
        {
          "output_type": "stream",
          "text": [
            "Test score: 0.06795202170977137\n",
            "Test accuracy: 0.9823\n"
          ],
          "name": "stdout"
        },
        {
          "output_type": "display_data",
          "data": {
            "image/png": "[encoded data removed]",
            "text/plain": [
              "<Figure size 576x396 with 1 Axes>"
            ]
          },
          "metadata": {
            "tags": []
          }
        }
      ]
    },
    {
      "metadata": {
        "id": "aDURFNfWbJu_",
        "colab_type": "text"
      },
      "cell_type": "markdown",
      "source": [
        "### Architecture_3: input layer -> 5 hidden layers -> output layer"
      ]
    },
    {
      "metadata": {
        "id": "EoTH3lg4bfk8",
        "colab_type": "code",
        "colab": {
          "base_uri": "https://localhost:8080/",
          "height": 683
        },
        "outputId": "16add72b-40fc-4fcf-eefd-1151bb598deb"
      },
      "cell_type": "code",
      "source": [
        "model = Sequential()\n",
        "model.add(Dense(512,input_shape = (784,),activation='relu',kernel_initializer = 'he_normal'))\n",
        "model.add(Dropout(0.5))\n",
        "\n",
        "model.add(Dense(256,activation='relu',kernel_initializer = 'he_normal'))\n",
        "model.add(BatchNormalization())\n",
        "model.add(Dropout(0.5))\n",
        "\n",
        "model.add(Dense(128,activation='relu',kernel_initializer = 'he_normal'))\n",
        "model.add(BatchNormalization())\n",
        "model.add(Dropout(0.5))\n",
        "\n",
        "model.add(Dense(64,activation='relu',kernel_initializer = 'he_normal'))\n",
        "model.add(BatchNormalization())\n",
        "model.add(Dropout(0.5))\n",
        "\n",
        "\n",
        "model.add(Dense(32,activation='relu',kernel_initializer = 'he_normal'))\n",
        "model.add(BatchNormalization())\n",
        "model.add(Dropout(0.5))\n",
        "\n",
        "model.add(Dense(output_dim=10,activation='softmax'))\n",
        "model.summary()"
      ],
      "execution_count": 13,
      "outputs": [
        {
          "output_type": "stream",
          "text": [
            "_________________________________________________________________\n",
            "Layer (type)                 Output Shape              Param #   \n",
            "=================================================================\n",
            "dense_8 (Dense)              (None, 512)               401920    \n",
            "_________________________________________________________________\n",
            "dropout_6 (Dropout)          (None, 512)               0         \n",
            "_________________________________________________________________\n",
            "dense_9 (Dense)              (None, 256)               131328    \n",
            "_________________________________________________________________\n",
            "batch_normalization_4 (Batch (None, 256)               1024      \n",
            "_________________________________________________________________\n",
            "dropout_7 (Dropout)          (None, 256)               0         \n",
            "_________________________________________________________________\n",
            "dense_10 (Dense)             (None, 128)               32896     \n",
            "_________________________________________________________________\n",
            "batch_normalization_5 (Batch (None, 128)               512       \n",
            "_________________________________________________________________\n",
            "dropout_8 (Dropout)          (None, 128)               0         \n",
            "_________________________________________________________________\n",
            "dense_11 (Dense)             (None, 64)                8256      \n",
            "_________________________________________________________________\n",
            "batch_normalization_6 (Batch (None, 64)                256       \n",
            "_________________________________________________________________\n",
            "dropout_9 (Dropout)          (None, 64)                0         \n",
            "_________________________________________________________________\n",
            "dense_12 (Dense)             (None, 32)                2080      \n",
            "_________________________________________________________________\n",
            "batch_normalization_7 (Batch (None, 32)                128       \n",
            "_________________________________________________________________\n",
            "dropout_10 (Dropout)         (None, 32)                0         \n",
            "_________________________________________________________________\n",
            "dense_13 (Dense)             (None, 10)                330       \n",
            "=================================================================\n",
            "Total params: 578,730\n",
            "Trainable params: 577,770\n",
            "Non-trainable params: 960\n",
            "_________________________________________________________________\n"
          ],
          "name": "stdout"
        },
        {
          "output_type": "stream",
          "text": [
            "/usr/local/lib/python3.6/dist-packages/ipykernel_launcher.py:22: UserWarning: Update your `Dense` call to the Keras 2 API: `Dense(activation=\"softmax\", units=10)`\n"
          ],
          "name": "stderr"
        }
      ]
    },
    {
      "metadata": {
        "id": "2Mu9ZSfkdPWw",
        "colab_type": "code",
        "colab": {
          "base_uri": "https://localhost:8080/",
          "height": 1054
        },
        "outputId": "689317d6-034c-45b7-d57e-0f72f5076271"
      },
      "cell_type": "code",
      "source": [
        "#Compiling and fitting the model\n",
        "model.compile(optimizer = 'adam',loss = 'categorical_crossentropy',metrics=['accuracy'])\n",
        "res = model.fit(x_train,Y_train,batch_size = 256, epochs = 30, verbose = 1, validation_data = (x_test,Y_test))"
      ],
      "execution_count": 14,
      "outputs": [
        {
          "output_type": "stream",
          "text": [
            "Train on 60000 samples, validate on 10000 samples\n",
            "Epoch 1/30\n",
            "60000/60000 [==============================] - 5s 90us/step - loss: 1.8725 - acc: 0.3740 - val_loss: 0.6407 - val_acc: 0.8154\n",
            "Epoch 2/30\n",
            "60000/60000 [==============================] - 4s 65us/step - loss: 0.8741 - acc: 0.7264 - val_loss: 0.2756 - val_acc: 0.9290\n",
            "Epoch 3/30\n",
            "60000/60000 [==============================] - 4s 66us/step - loss: 0.5365 - acc: 0.8532 - val_loss: 0.1804 - val_acc: 0.9502\n",
            "Epoch 4/30\n",
            "60000/60000 [==============================] - 4s 67us/step - loss: 0.3932 - acc: 0.9014 - val_loss: 0.1548 - val_acc: 0.9591\n",
            "Epoch 5/30\n",
            "60000/60000 [==============================] - 4s 66us/step - loss: 0.3259 - acc: 0.9203 - val_loss: 0.1363 - val_acc: 0.9645\n",
            "Epoch 6/30\n",
            "60000/60000 [==============================] - 4s 67us/step - loss: 0.2811 - acc: 0.9341 - val_loss: 0.1339 - val_acc: 0.9689\n",
            "Epoch 7/30\n",
            "60000/60000 [==============================] - 4s 66us/step - loss: 0.2544 - acc: 0.9408 - val_loss: 0.1226 - val_acc: 0.9715\n",
            "Epoch 8/30\n",
            "60000/60000 [==============================] - 4s 66us/step - loss: 0.2295 - acc: 0.9473 - val_loss: 0.1191 - val_acc: 0.9713\n",
            "Epoch 9/30\n",
            "60000/60000 [==============================] - 4s 66us/step - loss: 0.2063 - acc: 0.9532 - val_loss: 0.1051 - val_acc: 0.9739\n",
            "Epoch 10/30\n",
            "60000/60000 [==============================] - 4s 66us/step - loss: 0.1939 - acc: 0.9560 - val_loss: 0.1031 - val_acc: 0.9760\n",
            "Epoch 11/30\n",
            "60000/60000 [==============================] - 4s 66us/step - loss: 0.1833 - acc: 0.9592 - val_loss: 0.0982 - val_acc: 0.9762\n",
            "Epoch 12/30\n",
            "60000/60000 [==============================] - 4s 66us/step - loss: 0.1768 - acc: 0.9608 - val_loss: 0.0995 - val_acc: 0.9762\n",
            "Epoch 13/30\n",
            "60000/60000 [==============================] - 4s 66us/step - loss: 0.1668 - acc: 0.9630 - val_loss: 0.0957 - val_acc: 0.9776\n",
            "Epoch 14/30\n",
            "60000/60000 [==============================] - 4s 67us/step - loss: 0.1592 - acc: 0.9655 - val_loss: 0.0914 - val_acc: 0.9795\n",
            "Epoch 15/30\n",
            "60000/60000 [==============================] - 4s 67us/step - loss: 0.1424 - acc: 0.9687 - val_loss: 0.0958 - val_acc: 0.9781\n",
            "Epoch 16/30\n",
            "60000/60000 [==============================] - 4s 66us/step - loss: 0.1407 - acc: 0.9690 - val_loss: 0.0948 - val_acc: 0.9781\n",
            "Epoch 17/30\n",
            "60000/60000 [==============================] - 4s 66us/step - loss: 0.1381 - acc: 0.9703 - val_loss: 0.1058 - val_acc: 0.9767\n",
            "Epoch 18/30\n",
            "60000/60000 [==============================] - 4s 66us/step - loss: 0.1346 - acc: 0.9691 - val_loss: 0.0892 - val_acc: 0.9802\n",
            "Epoch 19/30\n",
            "60000/60000 [==============================] - 4s 66us/step - loss: 0.1270 - acc: 0.9718 - val_loss: 0.0913 - val_acc: 0.9798\n",
            "Epoch 20/30\n",
            "60000/60000 [==============================] - 4s 66us/step - loss: 0.1232 - acc: 0.9724 - val_loss: 0.0873 - val_acc: 0.9810\n",
            "Epoch 21/30\n",
            "60000/60000 [==============================] - 4s 67us/step - loss: 0.1155 - acc: 0.9747 - val_loss: 0.0919 - val_acc: 0.9808\n",
            "Epoch 22/30\n",
            "60000/60000 [==============================] - 4s 66us/step - loss: 0.1139 - acc: 0.9747 - val_loss: 0.0888 - val_acc: 0.9799\n",
            "Epoch 23/30\n",
            "60000/60000 [==============================] - 4s 66us/step - loss: 0.1102 - acc: 0.9751 - val_loss: 0.0906 - val_acc: 0.9812\n",
            "Epoch 24/30\n",
            "60000/60000 [==============================] - 4s 65us/step - loss: 0.1109 - acc: 0.9760 - val_loss: 0.0902 - val_acc: 0.9803\n",
            "Epoch 25/30\n",
            "60000/60000 [==============================] - 4s 67us/step - loss: 0.1082 - acc: 0.9754 - val_loss: 0.0840 - val_acc: 0.9824\n",
            "Epoch 26/30\n",
            "60000/60000 [==============================] - 4s 66us/step - loss: 0.1042 - acc: 0.9771 - val_loss: 0.0846 - val_acc: 0.9830\n",
            "Epoch 27/30\n",
            "60000/60000 [==============================] - 4s 65us/step - loss: 0.1011 - acc: 0.9781 - val_loss: 0.0813 - val_acc: 0.9827\n",
            "Epoch 28/30\n",
            "60000/60000 [==============================] - 4s 66us/step - loss: 0.0937 - acc: 0.9803 - val_loss: 0.0803 - val_acc: 0.9825\n",
            "Epoch 29/30\n",
            "60000/60000 [==============================] - 4s 66us/step - loss: 0.0986 - acc: 0.9778 - val_loss: 0.0833 - val_acc: 0.9827\n",
            "Epoch 30/30\n",
            "60000/60000 [==============================] - 4s 65us/step - loss: 0.0925 - acc: 0.9803 - val_loss: 0.0842 - val_acc: 0.9818\n"
          ],
          "name": "stdout"
        }
      ]
    },
    {
      "metadata": {
        "id": "RKQbSgWxdXHC",
        "colab_type": "code",
        "colab": {
          "base_uri": "https://localhost:8080/",
          "height": 395
        },
        "outputId": "9785b5ba-2280-4f1d-f6d7-130d6fff65e1"
      },
      "cell_type": "code",
      "source": [
        "#Training and test loss vs #epochs graph\n",
        "score = model.evaluate(x_test, Y_test, verbose=0) \n",
        "print('Test score:', score[0]) \n",
        "print('Test accuracy:', score[1])\n",
        "\n",
        "# list of epoch numbers\n",
        "x = list(range(1,31))\n",
        "\n",
        "vl = res.history['val_loss']\n",
        "tl = res.history['loss']\n",
        "plt_dynamic(x, vl, tl)"
      ],
      "execution_count": 15,
      "outputs": [
        {
          "output_type": "stream",
          "text": [
            "Test score: 0.08421630402624142\n",
            "Test accuracy: 0.9818\n"
          ],
          "name": "stdout"
        },
        {
          "output_type": "display_data",
          "data": {
            "image/png": "[encoded data removed]",
            "text/plain": [
              "<Figure size 576x396 with 1 Axes>"
            ]
          },
          "metadata": {
            "tags": []
          }
        }
      ]
    },
    {
      "metadata": {
        "id": "deqtSNa0h_5n",
        "colab_type": "text"
      },
      "cell_type": "markdown",
      "source": [
        "### Conclusion\n",
        "\n",
        "| Architecture | Training Loss | Train Accuracy | Test loss | Test Accuracy |\n",
        "| - | - | - | - | - |\n",
        "| 2 hidden layers: 784->256->128->10 | 0.0717 | 0.9778 | 0.0618 | 0.9809 |\n",
        "| 3 hidden layers: 784->512->128->64->10 | 0.0668 | 0.9811 | 0.0680 | 0.9823 |\n",
        "| 5 hidden layers: 784->512->256->128->64->32->10 | 0.0925 | 0.9803 | 0.0842 | 0.9818 |"
      ]
    },
    {
      "metadata": {
        "id": "WvBQpTDVkc0F",
        "colab_type": "text"
      },
      "cell_type": "markdown",
      "source": [
        "### =========================================================================================================="
      ]
    }
  ]
}