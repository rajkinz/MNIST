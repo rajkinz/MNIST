{
  "nbformat": 4,
  "nbformat_minor": 0,
  "metadata": {
    "colab": {
      "name": "MNIST_CNN.ipynb",
      "version": "0.3.2",
      "provenance": []
    },
    "kernelspec": {
      "name": "python3",
      "display_name": "Python 3"
    },
    "accelerator": "GPU"
  },
  "cells": [
    {
      "cell_type": "markdown",
      "metadata": {
        "id": "qUG4H8HXar0e",
        "colab_type": "text"
      },
      "source": [
        "### Importing, loading and preprocessing the data"
      ]
    },
    {
      "cell_type": "code",
      "metadata": {
        "id": "m66WlK4NZ6e_",
        "colab_type": "code",
        "outputId": "9442e7c9-216d-4f9e-9cd9-bc9be3a01d03",
        "colab": {
          "base_uri": "https://localhost:8080/",
          "height": 108
        }
      },
      "source": [
        "#Importing MNIST dataset\n",
        "from keras.datasets import mnist\n",
        "\n",
        "#Loading data\n",
        "(x_train,y_train),(x_test,y_test) = mnist.load_data()\n",
        "\n",
        "print(\"Shape of training data:- \",x_train.shape)\n",
        "print(\"Shape of test data:- \",x_test.shape)"
      ],
      "execution_count": 1,
      "outputs": [
        {
          "output_type": "stream",
          "text": [
            "Using TensorFlow backend.\n"
          ],
          "name": "stderr"
        },
        {
          "output_type": "stream",
          "text": [
            "Downloading data from https://s3.amazonaws.com/img-datasets/mnist.npz\n",
            "11493376/11490434 [==============================] - 4s 0us/step\n",
            "Shape of training data:-  (60000, 28, 28)\n",
            "Shape of test data:-  (10000, 28, 28)\n"
          ],
          "name": "stdout"
        }
      ]
    },
    {
      "cell_type": "code",
      "metadata": {
        "id": "0ktp6C-KbERG",
        "colab_type": "code",
        "outputId": "8affd77f-fe6e-4d61-e7ca-7939330728ea",
        "colab": {
          "base_uri": "https://localhost:8080/",
          "height": 54
        }
      },
      "source": [
        "#Reshaping the input images\n",
        "from keras import backend as K\n",
        "\n",
        "img_rows, img_cols = 28, 28\n",
        "if K.image_data_format() == 'channels_first':\n",
        "    x_train = x_train.reshape(x_train.shape[0], 1, img_rows, img_cols)\n",
        "    x_test = x_test.reshape(x_test.shape[0], 1, img_rows, img_cols)\n",
        "else:\n",
        "    x_train = x_train.reshape(x_train.shape[0], img_rows, img_cols, 1)\n",
        "    x_test = x_test.reshape(x_test.shape[0], img_rows, img_cols, 1)\n",
        "    \n",
        "print(\"Training data shape:- \",x_train.shape)\n",
        "print(\"Test data shape:- \",x_test.shape)"
      ],
      "execution_count": 2,
      "outputs": [
        {
          "output_type": "stream",
          "text": [
            "Training data shape:-  (60000, 28, 28, 1)\n",
            "Test data shape:-  (10000, 28, 28, 1)\n"
          ],
          "name": "stdout"
        }
      ]
    },
    {
      "cell_type": "code",
      "metadata": {
        "id": "GNh97qafdN6T",
        "colab_type": "code",
        "colab": {}
      },
      "source": [
        "#Data Normalization --> (x-x_min)/(x_max-x_min)\n",
        "x_train = x_train/255\n",
        "x_test = x_test/255"
      ],
      "execution_count": 0,
      "outputs": []
    },
    {
      "cell_type": "code",
      "metadata": {
        "id": "RKh2HmOUdVj3",
        "colab_type": "code",
        "outputId": "c36f37c8-d858-46d6-ab8d-f440a4d1f188",
        "colab": {
          "base_uri": "https://localhost:8080/",
          "height": 235
        }
      },
      "source": [
        "import pandas as pd\n",
        "print(\"Frequency of each class labels in training data:-\\n\",pd.DataFrame(y_train)[0].value_counts())"
      ],
      "execution_count": 4,
      "outputs": [
        {
          "output_type": "stream",
          "text": [
            "Frequency of each class labels in training data:-\n",
            " 1    6742\n",
            "7    6265\n",
            "3    6131\n",
            "2    5958\n",
            "9    5949\n",
            "0    5923\n",
            "6    5918\n",
            "8    5851\n",
            "4    5842\n",
            "5    5421\n",
            "Name: 0, dtype: int64\n"
          ],
          "name": "stdout"
        }
      ]
    },
    {
      "cell_type": "code",
      "metadata": {
        "id": "A0KVhkaqdl6Z",
        "colab_type": "code",
        "outputId": "4bf3b308-f1f6-41b3-bd37-5ad47cf72523",
        "colab": {
          "base_uri": "https://localhost:8080/",
          "height": 35
        }
      },
      "source": [
        "# Converting class vectors to binary class matrices\n",
        "from keras import utils\n",
        "y_train = utils.to_categorical(y_train, 10)\n",
        "y_test = utils.to_categorical(y_test, 10)\n",
        "\n",
        "y_train[0]"
      ],
      "execution_count": 5,
      "outputs": [
        {
          "output_type": "execute_result",
          "data": {
            "text/plain": [
              "array([0., 0., 0., 0., 0., 1., 0., 0., 0., 0.], dtype=float32)"
            ]
          },
          "metadata": {
            "tags": []
          },
          "execution_count": 5
        }
      ]
    },
    {
      "cell_type": "code",
      "metadata": {
        "id": "bLmZOsvNmWTI",
        "colab_type": "code",
        "colab": {}
      },
      "source": [
        "#Function to plot train and test loss\n",
        "import matplotlib.pyplot as plt\n",
        "import seaborn as sns\n",
        "def plt_dynamic(x, vy, ty,ti):\n",
        "    sns.set_style('whitegrid')\n",
        "    plt.plot(x, vl, 'r', label=\"Validation Loss\")\n",
        "    plt.plot(x, tl, 'b', label=\"Train Loss\")\n",
        "    plt.xlabel(\"Epochs\")\n",
        "    plt.ylabel(\"Cross Entropy Loss\")\n",
        "    plt.legend()\n",
        "    plt.title(ti)\n",
        "    plt.show()"
      ],
      "execution_count": 0,
      "outputs": []
    },
    {
      "cell_type": "markdown",
      "metadata": {
        "id": "XBRhGb2wfEsZ",
        "colab_type": "text"
      },
      "source": [
        "### Architecture-1:-  3 convolution layers"
      ]
    },
    {
      "cell_type": "code",
      "metadata": {
        "id": "0QCzQXYSe-uh",
        "colab_type": "code",
        "outputId": "a202ca29-ee7b-4333-d8a5-856115fbe225",
        "colab": {
          "base_uri": "https://localhost:8080/",
          "height": 617
        }
      },
      "source": [
        "from keras.models import Sequential\n",
        "from keras.layers import Conv2D,Dense,Dropout,Flatten,MaxPool2D,BatchNormalization\n",
        "\n",
        "model = Sequential()\n",
        "model.add(Conv2D(32,kernel_size=(3,3),activation='relu',kernel_initializer='he_normal',input_shape=(28,28,1)))\n",
        "model.add(Dropout(0.3))\n",
        "\n",
        "model.add(Conv2D(32,kernel_size=(3,3),activation='relu',kernel_initializer='he_normal'))\n",
        "model.add(MaxPool2D(pool_size=(2,2)))\n",
        "model.add(Dropout(0.3))\n",
        "\n",
        "model.add(Conv2D(32,kernel_size=(3,3),activation='relu',kernel_initializer='he_normal'))\n",
        "model.add(MaxPool2D(pool_size=(2,2)))\n",
        "model.add(BatchNormalization())\n",
        "model.add(Dropout(0.3))\n",
        "\n",
        "\n",
        "model.add(Flatten())\n",
        "model.add(Dense(512,activation='relu',kernel_initializer='he_normal'))\n",
        "model.add(BatchNormalization())\n",
        "model.add(Dense(10,activation='softmax'))\n",
        "\n",
        "model.summary()"
      ],
      "execution_count": 43,
      "outputs": [
        {
          "output_type": "stream",
          "text": [
            "_________________________________________________________________\n",
            "Layer (type)                 Output Shape              Param #   \n",
            "=================================================================\n",
            "conv2d_62 (Conv2D)           (None, 26, 26, 32)        320       \n",
            "_________________________________________________________________\n",
            "dropout_62 (Dropout)         (None, 26, 26, 32)        0         \n",
            "_________________________________________________________________\n",
            "conv2d_63 (Conv2D)           (None, 24, 24, 32)        9248      \n",
            "_________________________________________________________________\n",
            "max_pooling2d_23 (MaxPooling (None, 12, 12, 32)        0         \n",
            "_________________________________________________________________\n",
            "dropout_63 (Dropout)         (None, 12, 12, 32)        0         \n",
            "_________________________________________________________________\n",
            "conv2d_64 (Conv2D)           (None, 10, 10, 32)        9248      \n",
            "_________________________________________________________________\n",
            "max_pooling2d_24 (MaxPooling (None, 5, 5, 32)          0         \n",
            "_________________________________________________________________\n",
            "batch_normalization_52 (Batc (None, 5, 5, 32)          128       \n",
            "_________________________________________________________________\n",
            "dropout_64 (Dropout)         (None, 5, 5, 32)          0         \n",
            "_________________________________________________________________\n",
            "flatten_12 (Flatten)         (None, 800)               0         \n",
            "_________________________________________________________________\n",
            "dense_23 (Dense)             (None, 512)               410112    \n",
            "_________________________________________________________________\n",
            "batch_normalization_53 (Batc (None, 512)               2048      \n",
            "_________________________________________________________________\n",
            "dense_24 (Dense)             (None, 10)                5130      \n",
            "=================================================================\n",
            "Total params: 436,234\n",
            "Trainable params: 435,146\n",
            "Non-trainable params: 1,088\n",
            "_________________________________________________________________\n"
          ],
          "name": "stdout"
        }
      ]
    },
    {
      "cell_type": "code",
      "metadata": {
        "id": "3IGvx7qLkqwK",
        "colab_type": "code",
        "outputId": "3cb58d8a-e04c-41d8-c5ad-84aff94638f9",
        "colab": {
          "base_uri": "https://localhost:8080/",
          "height": 581
        }
      },
      "source": [
        "#Compiling and fitting the model\n",
        "model.compile(optimizer = 'adam',loss = 'categorical_crossentropy',metrics=['accuracy'])\n",
        "res = model.fit(x_train,y_train,batch_size = 256, epochs = 15, verbose = 1, validation_data = (x_test,y_test))"
      ],
      "execution_count": 44,
      "outputs": [
        {
          "output_type": "stream",
          "text": [
            "Train on 60000 samples, validate on 10000 samples\n",
            "Epoch 1/15\n",
            "60000/60000 [==============================] - 10s 160us/step - loss: 0.2693 - acc: 0.9145 - val_loss: 0.1769 - val_acc: 0.9455\n",
            "Epoch 2/15\n",
            "60000/60000 [==============================] - 4s 74us/step - loss: 0.0803 - acc: 0.9754 - val_loss: 0.0825 - val_acc: 0.9745\n",
            "Epoch 3/15\n",
            "60000/60000 [==============================] - 4s 74us/step - loss: 0.0582 - acc: 0.9821 - val_loss: 0.0639 - val_acc: 0.9808\n",
            "Epoch 4/15\n",
            "60000/60000 [==============================] - 4s 73us/step - loss: 0.0438 - acc: 0.9863 - val_loss: 0.0460 - val_acc: 0.9859\n",
            "Epoch 5/15\n",
            "60000/60000 [==============================] - 4s 66us/step - loss: 0.0379 - acc: 0.9883 - val_loss: 0.0287 - val_acc: 0.9910\n",
            "Epoch 6/15\n",
            "60000/60000 [==============================] - 4s 66us/step - loss: 0.0332 - acc: 0.9892 - val_loss: 0.0311 - val_acc: 0.9910\n",
            "Epoch 7/15\n",
            "60000/60000 [==============================] - 4s 67us/step - loss: 0.0293 - acc: 0.9904 - val_loss: 0.0268 - val_acc: 0.9918\n",
            "Epoch 8/15\n",
            "60000/60000 [==============================] - 4s 70us/step - loss: 0.0270 - acc: 0.9912 - val_loss: 0.0299 - val_acc: 0.9909\n",
            "Epoch 9/15\n",
            "60000/60000 [==============================] - 4s 68us/step - loss: 0.0255 - acc: 0.9917 - val_loss: 0.0297 - val_acc: 0.9918\n",
            "Epoch 10/15\n",
            "60000/60000 [==============================] - 4s 66us/step - loss: 0.0211 - acc: 0.9936 - val_loss: 0.0300 - val_acc: 0.9906\n",
            "Epoch 11/15\n",
            "60000/60000 [==============================] - 4s 68us/step - loss: 0.0223 - acc: 0.9928 - val_loss: 0.0259 - val_acc: 0.9926\n",
            "Epoch 12/15\n",
            "60000/60000 [==============================] - 4s 75us/step - loss: 0.0203 - acc: 0.9930 - val_loss: 0.0232 - val_acc: 0.9924\n",
            "Epoch 13/15\n",
            "60000/60000 [==============================] - 4s 74us/step - loss: 0.0179 - acc: 0.9938 - val_loss: 0.0333 - val_acc: 0.9891\n",
            "Epoch 14/15\n",
            "60000/60000 [==============================] - 4s 73us/step - loss: 0.0172 - acc: 0.9942 - val_loss: 0.0244 - val_acc: 0.9928\n",
            "Epoch 15/15\n",
            "60000/60000 [==============================] - 4s 75us/step - loss: 0.0162 - acc: 0.9949 - val_loss: 0.0283 - val_acc: 0.9912\n"
          ],
          "name": "stdout"
        }
      ]
    },
    {
      "cell_type": "code",
      "metadata": {
        "id": "kzEowlEM1wx6",
        "colab_type": "code",
        "colab": {
          "base_uri": "https://localhost:8080/",
          "height": 332
        },
        "outputId": "d2a628e0-bc0d-473c-8502-c68f211adb20"
      },
      "source": [
        "#Training and test loss vs n_epoch graph\n",
        "score = model.evaluate(x_test, y_test, verbose=0) \n",
        "print('Test loss:', score[0]) \n",
        "print('Test accuracy:', score[1])\n",
        "\n",
        "# list of epoch numbers\n",
        "x = list(range(1,16))\n",
        "\n",
        "vl = res.history['val_loss']\n",
        "tl = res.history['loss']\n",
        "plt_dynamic(x, vl, tl,\"Loss graph with dropout 0.3\")"
      ],
      "execution_count": 45,
      "outputs": [
        {
          "output_type": "stream",
          "text": [
            "Test loss: 0.028260895690632604\n",
            "Test accuracy: 0.9912\n"
          ],
          "name": "stdout"
        },
        {
          "output_type": "display_data",
          "data": {
            "image/png": "[encoded data removed]",
            "text/plain": [
              "<Figure size 432x288 with 1 Axes>"
            ]
          },
          "metadata": {
            "tags": []
          }
        }
      ]
    },
    {
      "cell_type": "code",
      "metadata": {
        "id": "sqNw5JT9mI80",
        "colab_type": "code",
        "outputId": "dabcf61a-a3b1-4399-d14b-607690bd002d",
        "colab": {
          "base_uri": "https://localhost:8080/",
          "height": 332
        }
      },
      "source": [
        "#Training and test loss vs n_epoch graph\n",
        "score = model.evaluate(x_test, y_test, verbose=0) \n",
        "print('Test loss:', score[0]) \n",
        "print('Test accuracy:', score[1])\n",
        "\n",
        "# list of epoch numbers\n",
        "x = list(range(1,16))\n",
        "\n",
        "vl = res.history['val_loss']\n",
        "tl = res.history['loss']\n",
        "va = res.history['val_acc']\n",
        "ta = res.history['acc']\n",
        "plt_dynamic(x, vl, tl,\"Loss graph with dropout 0.5\")"
      ],
      "execution_count": 18,
      "outputs": [
        {
          "output_type": "stream",
          "text": [
            "Test loss: 0.023068634322978322\n",
            "Test accuracy: 0.9923\n"
          ],
          "name": "stdout"
        },
        {
          "output_type": "display_data",
          "data": {
            "image/png": "[encoded data removed]",
            "text/plain": [
              "<Figure size 432x288 with 1 Axes>"
            ]
          },
          "metadata": {
            "tags": []
          }
        }
      ]
    },
    {
      "cell_type": "markdown",
      "metadata": {
        "id": "hhEyr7zHPJho",
        "colab_type": "text"
      },
      "source": [
        "### Architecture-2: 5 convolution layers"
      ]
    },
    {
      "cell_type": "code",
      "metadata": {
        "id": "TELIZda4JQsn",
        "colab_type": "code",
        "outputId": "125ccdc0-0be2-41b9-9497-ed5567d900d9",
        "colab": {
          "base_uri": "https://localhost:8080/",
          "height": 835
        }
      },
      "source": [
        "from keras.models import Sequential\n",
        "from keras.layers import Conv2D,Dense,Dropout,Flatten,MaxPool2D,BatchNormalization\n",
        "\n",
        "model = Sequential()\n",
        "model.add(Conv2D(32,kernel_size=(5,5),padding='same',activation='relu',kernel_initializer='he_normal',input_shape=(28,28,1)))\n",
        "model.add(Dropout(0.5))\n",
        "\n",
        "model.add(Conv2D(32,kernel_size=(5,5),padding='same',activation='relu',kernel_initializer='he_normal'))\n",
        "model.add(Dropout(0.5))\n",
        "\n",
        "model.add(Conv2D(32,kernel_size=(5,5),padding='same',activation='relu',kernel_initializer='he_normal'))\n",
        "model.add(MaxPool2D(pool_size=(2,2)))\n",
        "model.add(BatchNormalization())\n",
        "model.add(Dropout(0.5))\n",
        "\n",
        "model.add(Conv2D(32,kernel_size=(5,5),padding='same',activation='relu',kernel_initializer='he_normal'))\n",
        "model.add(BatchNormalization())\n",
        "model.add(Dropout(0.5))\n",
        "\n",
        "model.add(Conv2D(32,kernel_size=(5,5),activation='relu',kernel_initializer='he_normal'))\n",
        "model.add(MaxPool2D(pool_size=(2,2)))\n",
        "model.add(BatchNormalization())\n",
        "model.add(Dropout(0.5))\n",
        "\n",
        "model.add(Flatten())\n",
        "model.add(Dense(256,activation='relu',kernel_initializer='he_normal'))\n",
        "model.add(BatchNormalization())\n",
        "model.add(Dense(10,activation='softmax'))\n",
        "\n",
        "model.summary()"
      ],
      "execution_count": 40,
      "outputs": [
        {
          "output_type": "stream",
          "text": [
            "_________________________________________________________________\n",
            "Layer (type)                 Output Shape              Param #   \n",
            "=================================================================\n",
            "conv2d_57 (Conv2D)           (None, 28, 28, 32)        832       \n",
            "_________________________________________________________________\n",
            "dropout_57 (Dropout)         (None, 28, 28, 32)        0         \n",
            "_________________________________________________________________\n",
            "conv2d_58 (Conv2D)           (None, 28, 28, 32)        25632     \n",
            "_________________________________________________________________\n",
            "dropout_58 (Dropout)         (None, 28, 28, 32)        0         \n",
            "_________________________________________________________________\n",
            "conv2d_59 (Conv2D)           (None, 28, 28, 32)        25632     \n",
            "_________________________________________________________________\n",
            "max_pooling2d_21 (MaxPooling (None, 14, 14, 32)        0         \n",
            "_________________________________________________________________\n",
            "batch_normalization_48 (Batc (None, 14, 14, 32)        128       \n",
            "_________________________________________________________________\n",
            "dropout_59 (Dropout)         (None, 14, 14, 32)        0         \n",
            "_________________________________________________________________\n",
            "conv2d_60 (Conv2D)           (None, 14, 14, 32)        25632     \n",
            "_________________________________________________________________\n",
            "batch_normalization_49 (Batc (None, 14, 14, 32)        128       \n",
            "_________________________________________________________________\n",
            "dropout_60 (Dropout)         (None, 14, 14, 32)        0         \n",
            "_________________________________________________________________\n",
            "conv2d_61 (Conv2D)           (None, 10, 10, 32)        25632     \n",
            "_________________________________________________________________\n",
            "max_pooling2d_22 (MaxPooling (None, 5, 5, 32)          0         \n",
            "_________________________________________________________________\n",
            "batch_normalization_50 (Batc (None, 5, 5, 32)          128       \n",
            "_________________________________________________________________\n",
            "dropout_61 (Dropout)         (None, 5, 5, 32)          0         \n",
            "_________________________________________________________________\n",
            "flatten_11 (Flatten)         (None, 800)               0         \n",
            "_________________________________________________________________\n",
            "dense_21 (Dense)             (None, 256)               205056    \n",
            "_________________________________________________________________\n",
            "batch_normalization_51 (Batc (None, 256)               1024      \n",
            "_________________________________________________________________\n",
            "dense_22 (Dense)             (None, 10)                2570      \n",
            "=================================================================\n",
            "Total params: 312,394\n",
            "Trainable params: 311,690\n",
            "Non-trainable params: 704\n",
            "_________________________________________________________________\n"
          ],
          "name": "stdout"
        }
      ]
    },
    {
      "cell_type": "code",
      "metadata": {
        "id": "6dq1J-pgLmvp",
        "colab_type": "code",
        "outputId": "9f9c63da-34d7-4fae-c854-510c3dc549c3",
        "colab": {
          "base_uri": "https://localhost:8080/",
          "height": 581
        }
      },
      "source": [
        "#Compiling and fitting the model\n",
        "model.compile(optimizer = 'adam',loss = 'categorical_crossentropy',metrics=['accuracy'])\n",
        "res = model.fit(x_train,y_train,batch_size = 256, epochs = 15, verbose = 1, validation_data = (x_test,y_test))"
      ],
      "execution_count": 41,
      "outputs": [
        {
          "output_type": "stream",
          "text": [
            "Train on 60000 samples, validate on 10000 samples\n",
            "Epoch 1/15\n",
            "60000/60000 [==============================] - 14s 234us/step - loss: 0.5208 - acc: 0.8352 - val_loss: 0.1786 - val_acc: 0.9434\n",
            "Epoch 2/15\n",
            "60000/60000 [==============================] - 9s 150us/step - loss: 0.1443 - acc: 0.9540 - val_loss: 0.0799 - val_acc: 0.9743\n",
            "Epoch 3/15\n",
            "60000/60000 [==============================] - 9s 153us/step - loss: 0.0953 - acc: 0.9700 - val_loss: 0.0527 - val_acc: 0.9834\n",
            "Epoch 4/15\n",
            "60000/60000 [==============================] - 9s 152us/step - loss: 0.0732 - acc: 0.9768 - val_loss: 0.0655 - val_acc: 0.9795\n",
            "Epoch 5/15\n",
            "60000/60000 [==============================] - 9s 151us/step - loss: 0.0609 - acc: 0.9808 - val_loss: 0.0335 - val_acc: 0.9894\n",
            "Epoch 6/15\n",
            "60000/60000 [==============================] - 9s 151us/step - loss: 0.0560 - acc: 0.9822 - val_loss: 0.0474 - val_acc: 0.9860\n",
            "Epoch 7/15\n",
            "60000/60000 [==============================] - 9s 152us/step - loss: 0.0470 - acc: 0.9859 - val_loss: 0.0327 - val_acc: 0.9897\n",
            "Epoch 8/15\n",
            "60000/60000 [==============================] - 9s 152us/step - loss: 0.0435 - acc: 0.9859 - val_loss: 0.0238 - val_acc: 0.9928\n",
            "Epoch 9/15\n",
            "60000/60000 [==============================] - 9s 151us/step - loss: 0.0416 - acc: 0.9867 - val_loss: 0.0208 - val_acc: 0.9930\n",
            "Epoch 10/15\n",
            "60000/60000 [==============================] - 9s 154us/step - loss: 0.0376 - acc: 0.9882 - val_loss: 0.0206 - val_acc: 0.9934\n",
            "Epoch 11/15\n",
            "60000/60000 [==============================] - 9s 153us/step - loss: 0.0355 - acc: 0.9885 - val_loss: 0.0295 - val_acc: 0.9913\n",
            "Epoch 12/15\n",
            "60000/60000 [==============================] - 9s 155us/step - loss: 0.0344 - acc: 0.9895 - val_loss: 0.0322 - val_acc: 0.9904\n",
            "Epoch 13/15\n",
            "60000/60000 [==============================] - 9s 153us/step - loss: 0.0316 - acc: 0.9899 - val_loss: 0.0222 - val_acc: 0.9929\n",
            "Epoch 14/15\n",
            "60000/60000 [==============================] - 9s 153us/step - loss: 0.0304 - acc: 0.9902 - val_loss: 0.0255 - val_acc: 0.9922\n",
            "Epoch 15/15\n",
            "60000/60000 [==============================] - 9s 152us/step - loss: 0.0301 - acc: 0.9906 - val_loss: 0.0208 - val_acc: 0.9937\n"
          ],
          "name": "stdout"
        }
      ]
    },
    {
      "cell_type": "code",
      "metadata": {
        "id": "QmTw-2Kz8Khh",
        "colab_type": "code",
        "colab": {
          "base_uri": "https://localhost:8080/",
          "height": 332
        },
        "outputId": "294a1a62-9361-4625-ba09-9ae587974988"
      },
      "source": [
        "#Training and test loss vs n_epoch graph\n",
        "score = model.evaluate(x_test, y_test, verbose=0) \n",
        "print('Test loss:', score[0]) \n",
        "print('Test accuracy:', score[1])\n",
        "\n",
        "# list of epoch numbers\n",
        "x = list(range(1,16))\n",
        "\n",
        "vl = res.history['val_loss']\n",
        "tl = res.history['loss']\n",
        "plt_dynamic(x, vl, tl,\"Loss graph with droput 0.3\")"
      ],
      "execution_count": 24,
      "outputs": [
        {
          "output_type": "stream",
          "text": [
            "Test loss: 0.0170566019371312\n",
            "Test accuracy: 0.9938\n"
          ],
          "name": "stdout"
        },
        {
          "output_type": "display_data",
          "data": {
            "image/png": "[encoded data removed]",
            "text/plain": [
              "<Figure size 432x288 with 1 Axes>"
            ]
          },
          "metadata": {
            "tags": []
          }
        }
      ]
    },
    {
      "cell_type": "code",
      "metadata": {
        "id": "y0TnqiQULz0l",
        "colab_type": "code",
        "outputId": "fb40e4e3-dd67-4d36-d2a6-bfd4388a8d95",
        "colab": {
          "base_uri": "https://localhost:8080/",
          "height": 332
        }
      },
      "source": [
        "#Training and test loss vs n_epoch graph\n",
        "score = model.evaluate(x_test, y_test, verbose=0) \n",
        "print('Test loss:', score[0]) \n",
        "print('Test accuracy:', score[1])\n",
        "\n",
        "# list of epoch numbers\n",
        "x = list(range(1,16))\n",
        "\n",
        "vl = res.history['val_loss']\n",
        "tl = res.history['loss']\n",
        "plt_dynamic(x, vl, tl,\"Loss graph with droput 0.5\")"
      ],
      "execution_count": 42,
      "outputs": [
        {
          "output_type": "stream",
          "text": [
            "Test loss: 0.020840783670020756\n",
            "Test accuracy: 0.9937\n"
          ],
          "name": "stdout"
        },
        {
          "output_type": "display_data",
          "data": {
            "image/png": "[encoded data removed]",
            "text/plain": [
              "<Figure size 432x288 with 1 Axes>"
            ]
          },
          "metadata": {
            "tags": []
          }
        }
      ]
    },
    {
      "cell_type": "markdown",
      "metadata": {
        "id": "poGqgLfMO93-",
        "colab_type": "text"
      },
      "source": [
        "### Architecture-3: 7 Convolution layers"
      ]
    },
    {
      "cell_type": "code",
      "metadata": {
        "id": "JO61mwRqMype",
        "colab_type": "code",
        "outputId": "3f728689-224d-4f27-b018-5cd27c4a84e0",
        "colab": {
          "base_uri": "https://localhost:8080/",
          "height": 1054
        }
      },
      "source": [
        "from keras.models import Sequential\n",
        "from keras.layers import Conv2D,Dense,Dropout,Flatten,MaxPool2D,BatchNormalization\n",
        "\n",
        "model = Sequential()\n",
        "model.add(Conv2D(32,kernel_size=(7,7),padding='same',activation='relu',kernel_initializer='he_normal',input_shape=(28,28,1)))\n",
        "model.add(Dropout(0.3))\n",
        "\n",
        "model.add(Conv2D(32,kernel_size=(7,7),padding='same',activation='relu',kernel_initializer='he_normal'))\n",
        "model.add(Dropout(0.3))\n",
        "\n",
        "model.add(Conv2D(32,kernel_size=(7,7),padding='same',activation='relu',kernel_initializer='he_normal'))\n",
        "model.add(MaxPool2D(pool_size=(2,2)))\n",
        "model.add(BatchNormalization())\n",
        "model.add(Dropout(0.3))\n",
        "\n",
        "model.add(Conv2D(32,kernel_size=(7,7),padding='same',activation='relu',kernel_initializer='he_normal'))\n",
        "model.add(BatchNormalization())\n",
        "model.add(Dropout(0.3))\n",
        "\n",
        "model.add(Conv2D(32,kernel_size=(7,7),padding='same',activation='relu',kernel_initializer='he_normal'))\n",
        "model.add(BatchNormalization())\n",
        "model.add(Dropout(0.3))\n",
        "\n",
        "model.add(Conv2D(32,kernel_size=(7,7),padding='same',activation='relu',kernel_initializer='he_normal'))\n",
        "model.add(BatchNormalization())\n",
        "model.add(Dropout(0.3))\n",
        "\n",
        "model.add(Conv2D(32,kernel_size=(7,7),activation='relu',kernel_initializer='he_normal'))\n",
        "model.add(MaxPool2D(pool_size=(2,2)))\n",
        "model.add(BatchNormalization())\n",
        "model.add(Dropout(0.3))\n",
        "\n",
        "model.add(Flatten())\n",
        "model.add(Dense(128,activation='relu',kernel_initializer='he_normal'))\n",
        "model.add(BatchNormalization())\n",
        "model.add(Dense(10,activation='softmax'))\n",
        "\n",
        "model.summary()"
      ],
      "execution_count": 36,
      "outputs": [
        {
          "output_type": "stream",
          "text": [
            "_________________________________________________________________\n",
            "Layer (type)                 Output Shape              Param #   \n",
            "=================================================================\n",
            "conv2d_45 (Conv2D)           (None, 28, 28, 32)        1600      \n",
            "_________________________________________________________________\n",
            "dropout_45 (Dropout)         (None, 28, 28, 32)        0         \n",
            "_________________________________________________________________\n",
            "conv2d_46 (Conv2D)           (None, 28, 28, 32)        50208     \n",
            "_________________________________________________________________\n",
            "dropout_46 (Dropout)         (None, 28, 28, 32)        0         \n",
            "_________________________________________________________________\n",
            "conv2d_47 (Conv2D)           (None, 28, 28, 32)        50208     \n",
            "_________________________________________________________________\n",
            "max_pooling2d_17 (MaxPooling (None, 14, 14, 32)        0         \n",
            "_________________________________________________________________\n",
            "batch_normalization_38 (Batc (None, 14, 14, 32)        128       \n",
            "_________________________________________________________________\n",
            "dropout_47 (Dropout)         (None, 14, 14, 32)        0         \n",
            "_________________________________________________________________\n",
            "conv2d_48 (Conv2D)           (None, 14, 14, 32)        50208     \n",
            "_________________________________________________________________\n",
            "batch_normalization_39 (Batc (None, 14, 14, 32)        128       \n",
            "_________________________________________________________________\n",
            "dropout_48 (Dropout)         (None, 14, 14, 32)        0         \n",
            "_________________________________________________________________\n",
            "conv2d_49 (Conv2D)           (None, 14, 14, 32)        50208     \n",
            "_________________________________________________________________\n",
            "batch_normalization_40 (Batc (None, 14, 14, 32)        128       \n",
            "_________________________________________________________________\n",
            "dropout_49 (Dropout)         (None, 14, 14, 32)        0         \n",
            "_________________________________________________________________\n",
            "conv2d_50 (Conv2D)           (None, 14, 14, 32)        50208     \n",
            "_________________________________________________________________\n",
            "batch_normalization_41 (Batc (None, 14, 14, 32)        128       \n",
            "_________________________________________________________________\n",
            "dropout_50 (Dropout)         (None, 14, 14, 32)        0         \n",
            "_________________________________________________________________\n",
            "conv2d_51 (Conv2D)           (None, 8, 8, 32)          50208     \n",
            "_________________________________________________________________\n",
            "max_pooling2d_18 (MaxPooling (None, 4, 4, 32)          0         \n",
            "_________________________________________________________________\n",
            "batch_normalization_42 (Batc (None, 4, 4, 32)          128       \n",
            "_________________________________________________________________\n",
            "dropout_51 (Dropout)         (None, 4, 4, 32)          0         \n",
            "_________________________________________________________________\n",
            "flatten_9 (Flatten)          (None, 512)               0         \n",
            "_________________________________________________________________\n",
            "dense_17 (Dense)             (None, 128)               65664     \n",
            "_________________________________________________________________\n",
            "batch_normalization_43 (Batc (None, 128)               512       \n",
            "_________________________________________________________________\n",
            "dense_18 (Dense)             (None, 10)                1290      \n",
            "=================================================================\n",
            "Total params: 370,954\n",
            "Trainable params: 370,378\n",
            "Non-trainable params: 576\n",
            "_________________________________________________________________\n"
          ],
          "name": "stdout"
        }
      ]
    },
    {
      "cell_type": "code",
      "metadata": {
        "id": "Z1NdVCVLOIli",
        "colab_type": "code",
        "outputId": "70f30fad-59b9-4d63-f719-d50ae314e55b",
        "colab": {
          "base_uri": "https://localhost:8080/",
          "height": 472
        }
      },
      "source": [
        "#Compiling and fitting the model\n",
        "model.compile(optimizer = 'adam',loss = 'categorical_crossentropy',metrics=['accuracy'])\n",
        "res = model.fit(x_train,y_train,batch_size = 256, epochs = 12, verbose = 1, validation_data = (x_test,y_test))"
      ],
      "execution_count": 37,
      "outputs": [
        {
          "output_type": "stream",
          "text": [
            "Train on 60000 samples, validate on 10000 samples\n",
            "Epoch 1/12\n",
            "60000/60000 [==============================] - 23s 381us/step - loss: 0.3880 - acc: 0.8754 - val_loss: 0.1320 - val_acc: 0.9586\n",
            "Epoch 2/12\n",
            "60000/60000 [==============================] - 18s 298us/step - loss: 0.0831 - acc: 0.9743 - val_loss: 0.0422 - val_acc: 0.9864\n",
            "Epoch 3/12\n",
            "60000/60000 [==============================] - 18s 302us/step - loss: 0.0560 - acc: 0.9824 - val_loss: 0.0824 - val_acc: 0.9757\n",
            "Epoch 4/12\n",
            "60000/60000 [==============================] - 18s 302us/step - loss: 0.0448 - acc: 0.9864 - val_loss: 0.0428 - val_acc: 0.9858\n",
            "Epoch 5/12\n",
            "60000/60000 [==============================] - 18s 305us/step - loss: 0.0381 - acc: 0.9880 - val_loss: 0.0316 - val_acc: 0.9896\n",
            "Epoch 6/12\n",
            "60000/60000 [==============================] - 18s 306us/step - loss: 0.0328 - acc: 0.9893 - val_loss: 0.0232 - val_acc: 0.9926\n",
            "Epoch 7/12\n",
            "60000/60000 [==============================] - 18s 306us/step - loss: 0.0300 - acc: 0.9906 - val_loss: 0.0208 - val_acc: 0.9930\n",
            "Epoch 8/12\n",
            "60000/60000 [==============================] - 18s 307us/step - loss: 0.0277 - acc: 0.9917 - val_loss: 0.0162 - val_acc: 0.9940\n",
            "Epoch 9/12\n",
            "60000/60000 [==============================] - 18s 306us/step - loss: 0.0253 - acc: 0.9919 - val_loss: 0.0241 - val_acc: 0.9920\n",
            "Epoch 10/12\n",
            "60000/60000 [==============================] - 18s 305us/step - loss: 0.0227 - acc: 0.9928 - val_loss: 0.0216 - val_acc: 0.9934\n",
            "Epoch 11/12\n",
            "60000/60000 [==============================] - 18s 306us/step - loss: 0.0234 - acc: 0.9927 - val_loss: 0.0162 - val_acc: 0.9944\n",
            "Epoch 12/12\n",
            "60000/60000 [==============================] - 18s 305us/step - loss: 0.0194 - acc: 0.9937 - val_loss: 0.0176 - val_acc: 0.9938\n"
          ],
          "name": "stdout"
        }
      ]
    },
    {
      "cell_type": "code",
      "metadata": {
        "id": "37bS0zC0CZz-",
        "colab_type": "code",
        "colab": {
          "base_uri": "https://localhost:8080/",
          "height": 332
        },
        "outputId": "b9b97db3-cbce-4162-b4a4-98eabe30326f"
      },
      "source": [
        "#Training and test loss vs n_epoch graph\n",
        "score = model.evaluate(x_test, y_test, verbose=0) \n",
        "print('Test loss:', score[0]) \n",
        "print('Test accuracy:', score[1])\n",
        "\n",
        "# list of epoch numbers\n",
        "x = list(range(1,13))\n",
        "\n",
        "vl = res.history['val_loss']\n",
        "tl = res.history['loss']\n",
        "plt_dynamic(x, vl, tl,\"Loss graph with dropout 0.3\")"
      ],
      "execution_count": 38,
      "outputs": [
        {
          "output_type": "stream",
          "text": [
            "Test loss: 0.01763540869842982\n",
            "Test accuracy: 0.9938\n"
          ],
          "name": "stdout"
        },
        {
          "output_type": "display_data",
          "data": {
            "image/png": "[encoded data removed]",
            "text/plain": [
              "<Figure size 432x288 with 1 Axes>"
            ]
          },
          "metadata": {
            "tags": []
          }
        }
      ]
    },
    {
      "cell_type": "code",
      "metadata": {
        "id": "R_7e05opOax8",
        "colab_type": "code",
        "outputId": "44301a5a-7d8f-4d25-df78-b1351615c582",
        "colab": {
          "base_uri": "https://localhost:8080/",
          "height": 332
        }
      },
      "source": [
        "#Training and test loss vs n_epoch graph\n",
        "score = model.evaluate(x_test, y_test, verbose=0) \n",
        "print('Test loss:', score[0]) \n",
        "print('Test accuracy:', score[1])\n",
        "\n",
        "# list of epoch numbers\n",
        "x = list(range(1,13))\n",
        "\n",
        "vl = res.history['val_loss']\n",
        "tl = res.history['loss']\n",
        "plt_dynamic(x, vl, tl,\"Loss graph with dropout 0.5\")"
      ],
      "execution_count": 34,
      "outputs": [
        {
          "output_type": "stream",
          "text": [
            "Test loss: 0.03398916123464587\n",
            "Test accuracy: 0.9905\n"
          ],
          "name": "stdout"
        },
        {
          "output_type": "display_data",
          "data": {
            "image/png": "[encoded data removed]",
            "text/plain": [
              "<Figure size 432x288 with 1 Axes>"
            ]
          },
          "metadata": {
            "tags": []
          }
        }
      ]
    },
    {
      "cell_type": "markdown",
      "metadata": {
        "id": "simS97pMRkZ9",
        "colab_type": "text"
      },
      "source": [
        "### Conclusion\n",
        "\n",
        "| Architecture | Training Loss | Train Accuracy | Test loss | Test Accuracy |\n",
        "| - | - | - | - | - |\n",
        "| 3 convolution layers(Dropout - 0.3) | 0.0162 | 0.9949 | 0.0283 | 0.9912 |\n",
        "| 3 convolution layers(Dropout - 0.5) | 0.0352 | 0.9885 | 0.0231 | 0.9923 |\n",
        "| 5 convolution layers(Dropout - 0.3) | 0.0142 | 0.9951 | 0.0171 | 0.9938 |\n",
        "| 5 convolution layers(Dropout - 0.5) | 0.0301 | 0.9906 | 0.0208 | 0.9937 |\n",
        "| 7 convolution layers(Dropout - 0.3) | 0.0194 | 0.9937 | 0.0176 | 0.9938 |\n",
        "| 7 convolution layers(Dropout - 0.5) | 0.0372 | 0.9882 | 0.0340 | 0.9905 |\n",
        "\n",
        "\n",
        "When droput rate is lesser train and test loss are converging at lower epochs only in contrast to higher dropout rate(0.5)."
      ]
    }
  ]
}